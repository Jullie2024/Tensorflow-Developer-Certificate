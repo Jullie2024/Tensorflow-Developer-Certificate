{
  "nbformat": 4,
  "nbformat_minor": 0,
  "metadata": {
    "colab": {
      "name": "Udemy_Course_Lecture_00.ipynb",
      "provenance": []
    },
    "kernelspec": {
      "name": "python3",
      "display_name": "Python 3"
    },
    "language_info": {
      "name": "python"
    }
  },
  "cells": [
    {
      "cell_type": "markdown",
      "source": [
        "##NOTEBOOK O0- Basics of tensors\n",
        "A tf.Tensor represents a multidimensional array of elements."
      ],
      "metadata": {
        "id": "YRs_HEWPDLUk"
      }
    },
    {
      "cell_type": "code",
      "execution_count": null,
      "metadata": {
        "colab": {
          "base_uri": "https://localhost:8080/"
        },
        "id": "qjEML_Fb-AK-",
        "outputId": "629eb49b-0993-4066-b2c2-4b661cf6d885"
      },
      "outputs": [
        {
          "output_type": "stream",
          "name": "stdout",
          "text": [
            "2.8.2\n"
          ]
        }
      ],
      "source": [
        "import tensorflow as tf\n",
        "print(tf.__version__) #to check the version of tensorflow which you have"
      ]
    },
    {
      "cell_type": "code",
      "source": [
        "#create a scalar\n",
        "scalar = tf.constant(7)\n",
        "print(scalar)"
      ],
      "metadata": {
        "colab": {
          "base_uri": "https://localhost:8080/"
        },
        "id": "oYBfWyDS-OZX",
        "outputId": "7c0192d0-7180-48d5-93e1-e5d18839dea0"
      },
      "execution_count": null,
      "outputs": [
        {
          "output_type": "stream",
          "name": "stdout",
          "text": [
            "tf.Tensor(7, shape=(), dtype=int32)\n"
          ]
        }
      ]
    },
    {
      "cell_type": "code",
      "source": [
        "scalar.ndim"
      ],
      "metadata": {
        "colab": {
          "base_uri": "https://localhost:8080/"
        },
        "id": "UKvjOkbZ-OxE",
        "outputId": "94dcb3a5-f81c-4c8f-f29d-1e7a94330e22"
      },
      "execution_count": null,
      "outputs": [
        {
          "output_type": "execute_result",
          "data": {
            "text/plain": [
              "0"
            ]
          },
          "metadata": {},
          "execution_count": 3
        }
      ]
    },
    {
      "cell_type": "code",
      "source": [
        "#create a vector\n",
        "vector = tf.constant([10, 10])\n",
        "vector"
      ],
      "metadata": {
        "colab": {
          "base_uri": "https://localhost:8080/"
        },
        "id": "wM1BTDwy-O0m",
        "outputId": "f32f557d-ad92-47e0-cca3-261ded05c273"
      },
      "execution_count": null,
      "outputs": [
        {
          "output_type": "execute_result",
          "data": {
            "text/plain": [
              "<tf.Tensor: shape=(2,), dtype=int32, numpy=array([10, 10], dtype=int32)>"
            ]
          },
          "metadata": {},
          "execution_count": 4
        }
      ]
    },
    {
      "cell_type": "code",
      "source": [
        "vector.ndim"
      ],
      "metadata": {
        "colab": {
          "base_uri": "https://localhost:8080/"
        },
        "id": "ykH8DCz2-O37",
        "outputId": "2d4e957e-8e6e-4b30-85a8-712f12f0ca22"
      },
      "execution_count": null,
      "outputs": [
        {
          "output_type": "execute_result",
          "data": {
            "text/plain": [
              "1"
            ]
          },
          "metadata": {},
          "execution_count": 5
        }
      ]
    },
    {
      "cell_type": "code",
      "source": [
        "#create a matrix\n",
        "matrix = tf.constant([[10, 7], \n",
        "                     [7, 10]])\n",
        "matrix"
      ],
      "metadata": {
        "colab": {
          "base_uri": "https://localhost:8080/"
        },
        "id": "6FvWDC4OBQju",
        "outputId": "f798e35e-c89b-4bd9-a620-d55ff425d118"
      },
      "execution_count": null,
      "outputs": [
        {
          "output_type": "execute_result",
          "data": {
            "text/plain": [
              "<tf.Tensor: shape=(2, 2), dtype=int32, numpy=\n",
              "array([[10,  7],\n",
              "       [ 7, 10]], dtype=int32)>"
            ]
          },
          "metadata": {},
          "execution_count": 6
        }
      ]
    },
    {
      "cell_type": "code",
      "source": [
        "matrix.ndim"
      ],
      "metadata": {
        "colab": {
          "base_uri": "https://localhost:8080/"
        },
        "id": "BXnOcB8DB6QS",
        "outputId": "5d97d67e-647c-4a85-a07e-7940f74f4b09"
      },
      "execution_count": null,
      "outputs": [
        {
          "output_type": "execute_result",
          "data": {
            "text/plain": [
              "2"
            ]
          },
          "metadata": {},
          "execution_count": 7
        }
      ]
    },
    {
      "cell_type": "code",
      "source": [
        "another_matrix = tf.constant([[10., 7.], \n",
        "                            [3., 2.], \n",
        "                            [8., 9.]], dtype = tf.float16)\n",
        "another_matrix"
      ],
      "metadata": {
        "colab": {
          "base_uri": "https://localhost:8080/"
        },
        "id": "VBKJuwwzB4sc",
        "outputId": "1d901cb2-6473-4783-e5ab-8cdb639f82cc"
      },
      "execution_count": null,
      "outputs": [
        {
          "output_type": "execute_result",
          "data": {
            "text/plain": [
              "<tf.Tensor: shape=(3, 2), dtype=float16, numpy=\n",
              "array([[10.,  7.],\n",
              "       [ 3.,  2.],\n",
              "       [ 8.,  9.]], dtype=float16)>"
            ]
          },
          "metadata": {},
          "execution_count": 8
        }
      ]
    },
    {
      "cell_type": "code",
      "source": [
        "another_matrix.ndim "
      ],
      "metadata": {
        "colab": {
          "base_uri": "https://localhost:8080/"
        },
        "id": "W6c-8P_lDgB8",
        "outputId": "257c2fe4-c8dd-4442-fc73-b698fb4b5457"
      },
      "execution_count": null,
      "outputs": [
        {
          "output_type": "execute_result",
          "data": {
            "text/plain": [
              "2"
            ]
          },
          "metadata": {},
          "execution_count": 9
        }
      ]
    },
    {
      "cell_type": "code",
      "source": [
        "#create a tensor\n",
        "tensor = tf.constant([\n",
        "    [\n",
        "        [1, 2, 3],\n",
        "        [4, 5, 6]\n",
        "     ], \n",
        "    [\n",
        "        [7, 8, 9],\n",
        "        [10, 11, 12]\n",
        "    ], \n",
        "    [\n",
        "        [13, 14, 15], \n",
        "        [16, 17, 18]\n",
        "     ]\n",
        "                      ])\n",
        "tensor\n",
        "#this tensor has 3 elements, and each element has 2 rows and 3 columns, so we expect the tensor to have shape (3, 2, 3)\n",
        "#elements can be separated by commas"
      ],
      "metadata": {
        "colab": {
          "base_uri": "https://localhost:8080/"
        },
        "id": "b2tcITZXEDNI",
        "outputId": "ac8a4abc-7a60-417d-ea5b-4a1a4a75ae6b"
      },
      "execution_count": null,
      "outputs": [
        {
          "output_type": "execute_result",
          "data": {
            "text/plain": [
              "<tf.Tensor: shape=(3, 2, 3), dtype=int32, numpy=\n",
              "array([[[ 1,  2,  3],\n",
              "        [ 4,  5,  6]],\n",
              "\n",
              "       [[ 7,  8,  9],\n",
              "        [10, 11, 12]],\n",
              "\n",
              "       [[13, 14, 15],\n",
              "        [16, 17, 18]]], dtype=int32)>"
            ]
          },
          "metadata": {},
          "execution_count": 10
        }
      ]
    },
    {
      "cell_type": "code",
      "source": [
        "tensor.ndim"
      ],
      "metadata": {
        "colab": {
          "base_uri": "https://localhost:8080/"
        },
        "id": "FUeITJXnGzyu",
        "outputId": "731d79ed-691e-4334-cacf-d7cedee9a869"
      },
      "execution_count": null,
      "outputs": [
        {
          "output_type": "execute_result",
          "data": {
            "text/plain": [
              "3"
            ]
          },
          "metadata": {},
          "execution_count": 11
        }
      ]
    },
    {
      "cell_type": "code",
      "source": [
        "changeable = tf.Variable([10, 7])\n",
        "unchangeable_tensor = tf.constant([10, 7])\n",
        "changeable, unchangeable_tensor\n"
      ],
      "metadata": {
        "colab": {
          "base_uri": "https://localhost:8080/"
        },
        "id": "mOqkKAfnIIOO",
        "outputId": "0df0f684-4be9-4b31-c946-cfa30686c093"
      },
      "execution_count": null,
      "outputs": [
        {
          "output_type": "execute_result",
          "data": {
            "text/plain": [
              "(<tf.Variable 'Variable:0' shape=(2,) dtype=int32, numpy=array([10,  7], dtype=int32)>,\n",
              " <tf.Tensor: shape=(2,), dtype=int32, numpy=array([10,  7], dtype=int32)>)"
            ]
          },
          "metadata": {},
          "execution_count": 12
        }
      ]
    },
    {
      "cell_type": "code",
      "source": [
        "#tf.variable allows you to change the value of your tensor using the assign method\n",
        "\n",
        "changeable[0].assign(7) \n",
        "changeable"
      ],
      "metadata": {
        "colab": {
          "base_uri": "https://localhost:8080/"
        },
        "id": "nQt8WTQVJ5el",
        "outputId": "63db4409-0542-4f2c-c0ca-b1484d649c1c"
      },
      "execution_count": null,
      "outputs": [
        {
          "output_type": "execute_result",
          "data": {
            "text/plain": [
              "<tf.Variable 'Variable:0' shape=(2,) dtype=int32, numpy=array([7, 7], dtype=int32)>"
            ]
          },
          "metadata": {},
          "execution_count": 13
        }
      ]
    },
    {
      "cell_type": "code",
      "source": [
        "random_1 = tf.random.Generator.from_seed(42)\n",
        "random_1 = random_1.normal(shape = (3, 2))\n",
        "random_1\n",
        "random_2 = tf.random.Generator.from_seed(42)\n",
        "random_2 = random_2.uniform(shape = (3, 2))"
      ],
      "metadata": {
        "id": "rYsIc-jDKmfK"
      },
      "execution_count": null,
      "outputs": []
    },
    {
      "cell_type": "code",
      "source": [
        "#shuttle a tensor\n",
        "#create a tensor\n",
        "not_shuffled = tf.constant([[10, 7], \n",
        "                            [5, 8], \n",
        "                            [3, 4]])\n",
        "not_shuffled.ndim"
      ],
      "metadata": {
        "colab": {
          "base_uri": "https://localhost:8080/"
        },
        "id": "I6GnGegOfxeP",
        "outputId": "544d44e6-7dc7-4585-d599-a63f94c08581"
      },
      "execution_count": null,
      "outputs": [
        {
          "output_type": "execute_result",
          "data": {
            "text/plain": [
              "2"
            ]
          },
          "metadata": {},
          "execution_count": 15
        }
      ]
    },
    {
      "cell_type": "markdown",
      "source": [
        "Operations that rely on a random seed actually derive it from two seeds: the global and operation-level seeds. This sets the global seed.\n",
        "\n",
        "Its interactions with operation-level seeds is as follows:\n",
        "\n",
        "1. If neither the global seed nor the operation seed is set: A randomly picked seed is used for this op.\n",
        "2. If the global seed is set, but the operation seed is not: The system deterministically picks an operation seed in conjunction with the global seed so that it gets a unique random sequence. Within the same version of tensorflow and user code, this sequence is deterministic. However across different versions, this sequence might change. If the code depends on particular seeds to work, specify both global and operation-level seeds explicitly.\n",
        "3. If the operation seed is set, but the global seed is not set: A default global seed and the specified operation seed are used to determine the random sequence.\n",
        "4. If both the global and the operation seed are set: Both seeds are used in conjunction to determine the random sequence."
      ],
      "metadata": {
        "id": "MIlzo1tziGG5"
      }
    },
    {
      "cell_type": "code",
      "source": [
        "#press cntrl+shift to get what values a function takes in tensorflow\n",
        "# set-seed sets the seed at global level and seed sets it at operational level\n",
        "tf.random.set_seed(42)\n",
        "not_shuffled = tf.random.shuffle(not_shuffled, seed = 42)\n",
        "print(not_shuffled)"
      ],
      "metadata": {
        "colab": {
          "base_uri": "https://localhost:8080/"
        },
        "id": "BQX9bpZHgM5o",
        "outputId": "e93db0d5-d0aa-4760-8166-9363d937062a"
      },
      "execution_count": null,
      "outputs": [
        {
          "output_type": "stream",
          "name": "stdout",
          "text": [
            "tf.Tensor(\n",
            "[[10  7]\n",
            " [ 5  8]\n",
            " [ 3  4]], shape=(3, 2), dtype=int32)\n"
          ]
        }
      ]
    },
    {
      "cell_type": "markdown",
      "source": [
        "#Other Ways to Create Tensors"
      ],
      "metadata": {
        "id": "3wJzzElIiPae"
      }
    },
    {
      "cell_type": "code",
      "source": [
        "#create a tensor of all ones\n",
        "tf.ones([3, 3])"
      ],
      "metadata": {
        "colab": {
          "base_uri": "https://localhost:8080/"
        },
        "id": "e1Z4kcZwiVZQ",
        "outputId": "723c716d-9553-458a-9979-9fad0621fac1"
      },
      "execution_count": null,
      "outputs": [
        {
          "output_type": "execute_result",
          "data": {
            "text/plain": [
              "<tf.Tensor: shape=(3, 3), dtype=float32, numpy=\n",
              "array([[1., 1., 1.],\n",
              "       [1., 1., 1.],\n",
              "       [1., 1., 1.]], dtype=float32)>"
            ]
          },
          "metadata": {},
          "execution_count": 17
        }
      ]
    },
    {
      "cell_type": "code",
      "source": [
        "#create a tensor of all zeros\n",
        "tf.zeros(shape = (3, 3))"
      ],
      "metadata": {
        "colab": {
          "base_uri": "https://localhost:8080/"
        },
        "id": "HuwIMsUwihPg",
        "outputId": "7f067466-e916-4384-8535-5ecc5eadb493"
      },
      "execution_count": null,
      "outputs": [
        {
          "output_type": "execute_result",
          "data": {
            "text/plain": [
              "<tf.Tensor: shape=(3, 3), dtype=float32, numpy=\n",
              "array([[0., 0., 0.],\n",
              "       [0., 0., 0.],\n",
              "       [0., 0., 0.]], dtype=float32)>"
            ]
          },
          "metadata": {},
          "execution_count": 18
        }
      ]
    },
    {
      "cell_type": "markdown",
      "source": [
        "#Turn NumpyArrays into Tensors\n",
        " -main difference is tensors can be run faster on a GPU than numpy arrays, otherwise they are very similar"
      ],
      "metadata": {
        "id": "fZjnakA5i5Kr"
      }
    },
    {
      "cell_type": "code",
      "source": [
        "#create a numpy array\n",
        "import numpy as np\n",
        "numpy_A = np.arange(1, 25, dtype = np.int32)\n",
        "numpy_A       "
      ],
      "metadata": {
        "colab": {
          "base_uri": "https://localhost:8080/"
        },
        "id": "6I3svFwkjEtK",
        "outputId": "63dea6f8-9c90-4fc0-f615-bed275d43a98"
      },
      "execution_count": null,
      "outputs": [
        {
          "output_type": "execute_result",
          "data": {
            "text/plain": [
              "array([ 1,  2,  3,  4,  5,  6,  7,  8,  9, 10, 11, 12, 13, 14, 15, 16, 17,\n",
              "       18, 19, 20, 21, 22, 23, 24], dtype=int32)"
            ]
          },
          "metadata": {},
          "execution_count": 19
        }
      ]
    },
    {
      "cell_type": "code",
      "source": [
        "A = tf.constant(numpy_A, shape = (3, 2, 4))\n",
        "A"
      ],
      "metadata": {
        "colab": {
          "base_uri": "https://localhost:8080/"
        },
        "id": "AuHdpGlQjw90",
        "outputId": "f995bf75-9e7a-472f-921a-924602f4e704"
      },
      "execution_count": null,
      "outputs": [
        {
          "output_type": "execute_result",
          "data": {
            "text/plain": [
              "<tf.Tensor: shape=(3, 2, 4), dtype=int32, numpy=\n",
              "array([[[ 1,  2,  3,  4],\n",
              "        [ 5,  6,  7,  8]],\n",
              "\n",
              "       [[ 9, 10, 11, 12],\n",
              "        [13, 14, 15, 16]],\n",
              "\n",
              "       [[17, 18, 19, 20],\n",
              "        [21, 22, 23, 24]]], dtype=int32)>"
            ]
          },
          "metadata": {},
          "execution_count": 20
        }
      ]
    },
    {
      "cell_type": "code",
      "source": [
        "A.ndim"
      ],
      "metadata": {
        "colab": {
          "base_uri": "https://localhost:8080/"
        },
        "id": "Rg9N3wwbkrAx",
        "outputId": "fa8e366b-fb32-46e5-c558-52fac0f753e5"
      },
      "execution_count": null,
      "outputs": [
        {
          "output_type": "execute_result",
          "data": {
            "text/plain": [
              "3"
            ]
          },
          "metadata": {},
          "execution_count": 21
        }
      ]
    },
    {
      "cell_type": "markdown",
      "source": [
        "#Getting more Information from our tensors\n",
        "\n",
        "\n",
        "*   Shape\n",
        "*   Rank\n",
        "*   Dimension/Axis\n",
        "*   Size\n",
        "\n",
        "\n",
        "\n"
      ],
      "metadata": {
        "id": "5cuSnQULke7J"
      }
    },
    {
      "cell_type": "code",
      "source": [
        "from tensorflow.python.ops.gen_array_ops import rank_eager_fallback\n",
        "#create a rank-4 tensor\n",
        "\n",
        "rank_4_tensor = tf.zeros(shape = [2, 3, 4, 5])\n",
        "rank_4_tensor\n",
        "rank_4_tensor[0]\n",
        "rank_4_tensor.shape, rank_4_tensor.ndim, tf.size(rank_4_tensor)\n"
      ],
      "metadata": {
        "colab": {
          "base_uri": "https://localhost:8080/"
        },
        "id": "uJJH_Vu8klSv",
        "outputId": "099556e4-666e-4ff0-db5f-6c39efccd9c8"
      },
      "execution_count": null,
      "outputs": [
        {
          "output_type": "execute_result",
          "data": {
            "text/plain": [
              "(TensorShape([2, 3, 4, 5]), 4, <tf.Tensor: shape=(), dtype=int32, numpy=120>)"
            ]
          },
          "metadata": {},
          "execution_count": 22
        }
      ]
    },
    {
      "cell_type": "code",
      "source": [
        "#get various attributes of our tensor\n",
        "print(\"Datatype of every element:\", rank_4_tensor.dtype)\n",
        "print(\"Number of dimensions of tensor:\", rank_4_tensor.ndim)\n",
        "print(\"Shape of our tensor:\", rank_4_tensor.shape)\n",
        "print(\"Elements along the zeroth axis of our tensor:\", rank_4_tensor.shape[0])\n",
        "print(\"Elements along the last axis of our tensor:\", rank_4_tensor.shape[-1])\n",
        "print(\"Total number of elements in our tensor:\", tf.size(rank_4_tensor))\n",
        "print(\"Total number of elements in our tensor:\", tf.size(rank_4_tensor).numpy())  #add the .numpy() to get the number of elements without the extra information\n",
        "\n",
        "\n",
        "\n",
        "\n"
      ],
      "metadata": {
        "colab": {
          "base_uri": "https://localhost:8080/"
        },
        "id": "c6kfBxaOmwFQ",
        "outputId": "5d87ee2f-20ac-49e5-d8bb-231561c5da1f"
      },
      "execution_count": null,
      "outputs": [
        {
          "output_type": "stream",
          "name": "stdout",
          "text": [
            "Datatype of every element: <dtype: 'float32'>\n",
            "Number of dimensions of tensor: 4\n",
            "Shape of our tensor: (2, 3, 4, 5)\n",
            "Elements along the zeroth axis of our tensor: 2\n",
            "Elements along the last axis of our tensor: 5\n",
            "Total number of elements in our tensor: tf.Tensor(120, shape=(), dtype=int32)\n",
            "Total number of elements in our tensor: 120\n"
          ]
        }
      ]
    },
    {
      "cell_type": "markdown",
      "source": [
        "#Indexing on Tensors\n"
      ],
      "metadata": {
        "id": "Z3ZSn3AEoR8J"
      }
    },
    {
      "cell_type": "code",
      "source": [
        "#Get the first 2 elements of every dimension\n",
        "\n",
        "rank_4_tensor[:2, :2, :2, :2]\n"
      ],
      "metadata": {
        "colab": {
          "base_uri": "https://localhost:8080/"
        },
        "id": "7MaKdCUvoT6q",
        "outputId": "f4d60db7-b732-40b1-dc53-40c80234bda9"
      },
      "execution_count": null,
      "outputs": [
        {
          "output_type": "execute_result",
          "data": {
            "text/plain": [
              "<tf.Tensor: shape=(2, 2, 2, 2), dtype=float32, numpy=\n",
              "array([[[[0., 0.],\n",
              "         [0., 0.]],\n",
              "\n",
              "        [[0., 0.],\n",
              "         [0., 0.]]],\n",
              "\n",
              "\n",
              "       [[[0., 0.],\n",
              "         [0., 0.]],\n",
              "\n",
              "        [[0., 0.],\n",
              "         [0., 0.]]]], dtype=float32)>"
            ]
          },
          "metadata": {},
          "execution_count": 24
        }
      ]
    },
    {
      "cell_type": "code",
      "source": [
        "#Get the first element from each index except the last one\n",
        "rank_4_tensor[:1, :1, :1, :]"
      ],
      "metadata": {
        "colab": {
          "base_uri": "https://localhost:8080/"
        },
        "id": "5ShSVCNnpB6x",
        "outputId": "9266e03a-db95-4db4-d470-ae5542f3a676"
      },
      "execution_count": null,
      "outputs": [
        {
          "output_type": "execute_result",
          "data": {
            "text/plain": [
              "<tf.Tensor: shape=(1, 1, 1, 5), dtype=float32, numpy=array([[[[0., 0., 0., 0., 0.]]]], dtype=float32)>"
            ]
          },
          "metadata": {},
          "execution_count": 25
        }
      ]
    },
    {
      "cell_type": "code",
      "source": [
        "rank_4_tensor[:1, :, :1, :1]"
      ],
      "metadata": {
        "colab": {
          "base_uri": "https://localhost:8080/"
        },
        "id": "G17ZZthspfBq",
        "outputId": "ec1799f5-91c8-42d5-d6e9-83cd625073b2"
      },
      "execution_count": null,
      "outputs": [
        {
          "output_type": "execute_result",
          "data": {
            "text/plain": [
              "<tf.Tensor: shape=(1, 3, 1, 1), dtype=float32, numpy=\n",
              "array([[[[0.]],\n",
              "\n",
              "        [[0.]],\n",
              "\n",
              "        [[0.]]]], dtype=float32)>"
            ]
          },
          "metadata": {},
          "execution_count": 26
        }
      ]
    },
    {
      "cell_type": "markdown",
      "source": [
        "#Reshaping tensors"
      ],
      "metadata": {
        "id": "kobR3ldoplUs"
      }
    },
    {
      "cell_type": "code",
      "source": [
        "#create a rank 2 tensor\n",
        "tensor2 = tf.zeros(shape = (3, 3))\n",
        "tensor2"
      ],
      "metadata": {
        "colab": {
          "base_uri": "https://localhost:8080/"
        },
        "id": "NSzkzJ4Npp_0",
        "outputId": "101ae331-7200-4da8-dae2-119c4ca27f2c"
      },
      "execution_count": null,
      "outputs": [
        {
          "output_type": "execute_result",
          "data": {
            "text/plain": [
              "<tf.Tensor: shape=(3, 3), dtype=float32, numpy=\n",
              "array([[0., 0., 0.],\n",
              "       [0., 0., 0.],\n",
              "       [0., 0., 0.]], dtype=float32)>"
            ]
          },
          "metadata": {},
          "execution_count": 27
        }
      ]
    },
    {
      "cell_type": "code",
      "source": [
        "\n",
        "#get the last element in each row; or in other words get the element in the last column in every row\n",
        "tensor2[:, -1]\n"
      ],
      "metadata": {
        "colab": {
          "base_uri": "https://localhost:8080/"
        },
        "id": "mJBGun1Su9cY",
        "outputId": "7896907d-4747-405d-dbbb-b1756e442f5a"
      },
      "execution_count": null,
      "outputs": [
        {
          "output_type": "execute_result",
          "data": {
            "text/plain": [
              "<tf.Tensor: shape=(3,), dtype=float32, numpy=array([0., 0., 0.], dtype=float32)>"
            ]
          },
          "metadata": {},
          "execution_count": 28
        }
      ]
    },
    {
      "cell_type": "code",
      "source": [
        "tensor3 = tensor2[..., tf.newaxis]  #... means every axis before this one\n",
        "tensor3"
      ],
      "metadata": {
        "colab": {
          "base_uri": "https://localhost:8080/"
        },
        "id": "vgLOtEtKvn_e",
        "outputId": "0fd714d2-f451-4298-c56f-404d2187b42e"
      },
      "execution_count": null,
      "outputs": [
        {
          "output_type": "execute_result",
          "data": {
            "text/plain": [
              "<tf.Tensor: shape=(3, 3, 1), dtype=float32, numpy=\n",
              "array([[[0.],\n",
              "        [0.],\n",
              "        [0.]],\n",
              "\n",
              "       [[0.],\n",
              "        [0.],\n",
              "        [0.]],\n",
              "\n",
              "       [[0.],\n",
              "        [0.],\n",
              "        [0.]]], dtype=float32)>"
            ]
          },
          "metadata": {},
          "execution_count": 29
        }
      ]
    },
    {
      "cell_type": "code",
      "source": [
        "tf.expand_dims(tensor2, axis = -1)  #-1 means expand the final axis\n"
      ],
      "metadata": {
        "colab": {
          "base_uri": "https://localhost:8080/"
        },
        "id": "ocXRT-IGwSRE",
        "outputId": "163daa27-3447-4637-9ae4-1b07c6576192"
      },
      "execution_count": null,
      "outputs": [
        {
          "output_type": "execute_result",
          "data": {
            "text/plain": [
              "<tf.Tensor: shape=(3, 3, 1), dtype=float32, numpy=\n",
              "array([[[0.],\n",
              "        [0.],\n",
              "        [0.]],\n",
              "\n",
              "       [[0.],\n",
              "        [0.],\n",
              "        [0.]],\n",
              "\n",
              "       [[0.],\n",
              "        [0.],\n",
              "        [0.]]], dtype=float32)>"
            ]
          },
          "metadata": {},
          "execution_count": 30
        }
      ]
    },
    {
      "cell_type": "markdown",
      "source": [
        "#Manipulating tensors (Tensor operations)\n",
        "\n",
        "Basic *, +, /, -\n",
        "tf.reshape() \n",
        "tf.transpose()\n",
        "tf.matmul()\n",
        "tf.tensordot()\n",
        "@"
      ],
      "metadata": {
        "id": "mdijiShqw6ki"
      }
    },
    {
      "cell_type": "code",
      "source": [
        "tensor = tf.constant([[10, 7], [4, 3], [5, 9]])\n",
        "tensor"
      ],
      "metadata": {
        "colab": {
          "base_uri": "https://localhost:8080/"
        },
        "id": "3reHMKPsxAGF",
        "outputId": "789d4f86-6bc1-4a42-d188-4f14d4c3b6d5"
      },
      "execution_count": null,
      "outputs": [
        {
          "output_type": "execute_result",
          "data": {
            "text/plain": [
              "<tf.Tensor: shape=(3, 2), dtype=int32, numpy=\n",
              "array([[10,  7],\n",
              "       [ 4,  3],\n",
              "       [ 5,  9]], dtype=int32)>"
            ]
          },
          "metadata": {},
          "execution_count": 31
        }
      ]
    },
    {
      "cell_type": "code",
      "source": [
        "tensor+ 10  #keep in mind that the original tensor remains unchanged\n"
      ],
      "metadata": {
        "colab": {
          "base_uri": "https://localhost:8080/"
        },
        "id": "xid0nWp8xSqW",
        "outputId": "e8971d12-5e59-4601-bcae-c97bcbc0909b"
      },
      "execution_count": null,
      "outputs": [
        {
          "output_type": "execute_result",
          "data": {
            "text/plain": [
              "<tf.Tensor: shape=(3, 2), dtype=int32, numpy=\n",
              "array([[20, 17],\n",
              "       [14, 13],\n",
              "       [15, 19]], dtype=int32)>"
            ]
          },
          "metadata": {},
          "execution_count": 32
        }
      ]
    },
    {
      "cell_type": "code",
      "source": [
        "tensor*10"
      ],
      "metadata": {
        "colab": {
          "base_uri": "https://localhost:8080/"
        },
        "id": "ime9HoX_xcwD",
        "outputId": "87892b3a-fb41-48e6-b98a-cf9243adef11"
      },
      "execution_count": null,
      "outputs": [
        {
          "output_type": "execute_result",
          "data": {
            "text/plain": [
              "<tf.Tensor: shape=(3, 2), dtype=int32, numpy=\n",
              "array([[100,  70],\n",
              "       [ 40,  30],\n",
              "       [ 50,  90]], dtype=int32)>"
            ]
          },
          "metadata": {},
          "execution_count": 33
        }
      ]
    },
    {
      "cell_type": "code",
      "source": [
        "tensor-10"
      ],
      "metadata": {
        "colab": {
          "base_uri": "https://localhost:8080/"
        },
        "id": "PalxDlWHxhRP",
        "outputId": "f4b9fe3d-d560-4a4f-fb14-7124a615188f"
      },
      "execution_count": null,
      "outputs": [
        {
          "output_type": "execute_result",
          "data": {
            "text/plain": [
              "<tf.Tensor: shape=(3, 2), dtype=int32, numpy=\n",
              "array([[ 0, -3],\n",
              "       [-6, -7],\n",
              "       [-5, -1]], dtype=int32)>"
            ]
          },
          "metadata": {},
          "execution_count": 34
        }
      ]
    },
    {
      "cell_type": "code",
      "source": [
        "#We can also use the tensorflow built-in functions\n",
        "\n",
        "tf.multiply(tensor, 10)  #use this if you want your code to run faster"
      ],
      "metadata": {
        "colab": {
          "base_uri": "https://localhost:8080/"
        },
        "id": "f6Tncb6ExjgW",
        "outputId": "e181b80f-ed0a-4c4f-8b76-0afbda75dc70"
      },
      "execution_count": null,
      "outputs": [
        {
          "output_type": "execute_result",
          "data": {
            "text/plain": [
              "<tf.Tensor: shape=(3, 2), dtype=int32, numpy=\n",
              "array([[100,  70],\n",
              "       [ 40,  30],\n",
              "       [ 50,  90]], dtype=int32)>"
            ]
          },
          "metadata": {},
          "execution_count": 35
        }
      ]
    },
    {
      "cell_type": "code",
      "source": [
        "tf.add(tensor, 10)"
      ],
      "metadata": {
        "colab": {
          "base_uri": "https://localhost:8080/"
        },
        "id": "2XzF4X1DxyeJ",
        "outputId": "0b70e123-295c-4504-ddc5-434aa263fafe"
      },
      "execution_count": null,
      "outputs": [
        {
          "output_type": "execute_result",
          "data": {
            "text/plain": [
              "<tf.Tensor: shape=(3, 2), dtype=int32, numpy=\n",
              "array([[20, 17],\n",
              "       [14, 13],\n",
              "       [15, 19]], dtype=int32)>"
            ]
          },
          "metadata": {},
          "execution_count": 36
        }
      ]
    },
    {
      "cell_type": "code",
      "source": [
        "#In machine learning, matrix multiplication is one of the most common operations\n",
        "tensor = tf.constant([[10, 10], [2, 2]])\n",
        "tensor\n"
      ],
      "metadata": {
        "colab": {
          "base_uri": "https://localhost:8080/"
        },
        "id": "8jYuHN-qx9_H",
        "outputId": "3aabfdd5-c2ee-4539-8540-830c7e8342ec"
      },
      "execution_count": null,
      "outputs": [
        {
          "output_type": "execute_result",
          "data": {
            "text/plain": [
              "<tf.Tensor: shape=(2, 2), dtype=int32, numpy=\n",
              "array([[10, 10],\n",
              "       [ 2,  2]], dtype=int32)>"
            ]
          },
          "metadata": {},
          "execution_count": 37
        }
      ]
    },
    {
      "cell_type": "code",
      "source": [
        "tf.matmul(tensor, tensor)   #this gives you the dot-product"
      ],
      "metadata": {
        "colab": {
          "base_uri": "https://localhost:8080/"
        },
        "id": "pBDrp0LCzSd3",
        "outputId": "838fe088-9e1c-43d5-8394-d77ea72566a3"
      },
      "execution_count": null,
      "outputs": [
        {
          "output_type": "execute_result",
          "data": {
            "text/plain": [
              "<tf.Tensor: shape=(2, 2), dtype=int32, numpy=\n",
              "array([[120, 120],\n",
              "       [ 24,  24]], dtype=int32)>"
            ]
          },
          "metadata": {},
          "execution_count": 38
        }
      ]
    },
    {
      "cell_type": "code",
      "source": [
        "tensor*tensor  #this is element-wise multiplication"
      ],
      "metadata": {
        "colab": {
          "base_uri": "https://localhost:8080/"
        },
        "id": "tB1fbspPzWow",
        "outputId": "1d16379e-66f0-47fa-d260-d82ddabc97ae"
      },
      "execution_count": null,
      "outputs": [
        {
          "output_type": "execute_result",
          "data": {
            "text/plain": [
              "<tf.Tensor: shape=(2, 2), dtype=int32, numpy=\n",
              "array([[100, 100],\n",
              "       [  4,   4]], dtype=int32)>"
            ]
          },
          "metadata": {},
          "execution_count": 39
        }
      ]
    },
    {
      "cell_type": "code",
      "source": [
        "tensor @ tensor   #also does a dot-product, this is the python method"
      ],
      "metadata": {
        "colab": {
          "base_uri": "https://localhost:8080/"
        },
        "id": "NaJulXdg0DVA",
        "outputId": "84421e6f-9e92-4058-b62f-355d381d02a1"
      },
      "execution_count": null,
      "outputs": [
        {
          "output_type": "execute_result",
          "data": {
            "text/plain": [
              "<tf.Tensor: shape=(2, 2), dtype=int32, numpy=\n",
              "array([[120, 120],\n",
              "       [ 24,  24]], dtype=int32)>"
            ]
          },
          "metadata": {},
          "execution_count": 40
        }
      ]
    },
    {
      "cell_type": "code",
      "source": [
        "tensor = tf.constant([[10, 7], [4, 3], [5, 9]])\n",
        "tensor"
      ],
      "metadata": {
        "colab": {
          "base_uri": "https://localhost:8080/"
        },
        "id": "CC5-wvad0OFl",
        "outputId": "0a5703b1-6115-4911-dba9-c6883d9b8fc3"
      },
      "execution_count": null,
      "outputs": [
        {
          "output_type": "execute_result",
          "data": {
            "text/plain": [
              "<tf.Tensor: shape=(3, 2), dtype=int32, numpy=\n",
              "array([[10,  7],\n",
              "       [ 4,  3],\n",
              "       [ 5,  9]], dtype=int32)>"
            ]
          },
          "metadata": {},
          "execution_count": 41
        }
      ]
    },
    {
      "cell_type": "code",
      "source": [
        "tf.transpose(tensor)"
      ],
      "metadata": {
        "colab": {
          "base_uri": "https://localhost:8080/"
        },
        "id": "_Ykm7DtB1rsu",
        "outputId": "5220754b-0a75-4ab6-9706-fa024a47453a"
      },
      "execution_count": null,
      "outputs": [
        {
          "output_type": "execute_result",
          "data": {
            "text/plain": [
              "<tf.Tensor: shape=(2, 3), dtype=int32, numpy=\n",
              "array([[10,  4,  5],\n",
              "       [ 7,  3,  9]], dtype=int32)>"
            ]
          },
          "metadata": {},
          "execution_count": 42
        }
      ]
    },
    {
      "cell_type": "code",
      "source": [
        "#we can use 16-bit precision instead of the default 32-bit so that GPU calculations are performed faster\n",
        "#may not matter much on tensors of small size but the improvement will be significant for tensors of larger sizes\n",
        "\n",
        "A = tf.constant([10.5, 3.2])\n",
        "A.dtype"
      ],
      "metadata": {
        "colab": {
          "base_uri": "https://localhost:8080/"
        },
        "id": "Dp3wJRwna_Cw",
        "outputId": "63be5d67-0b98-4d65-e9b3-7fdbf22b9207"
      },
      "execution_count": null,
      "outputs": [
        {
          "output_type": "execute_result",
          "data": {
            "text/plain": [
              "tf.float32"
            ]
          },
          "metadata": {},
          "execution_count": 43
        }
      ]
    },
    {
      "cell_type": "code",
      "source": [
        "B= tf.constant([10, 5])\n",
        "B.dtype"
      ],
      "metadata": {
        "colab": {
          "base_uri": "https://localhost:8080/"
        },
        "id": "l696EWh3bQ1s",
        "outputId": "2f7b5d81-6131-407d-9cb5-6548358450d0"
      },
      "execution_count": null,
      "outputs": [
        {
          "output_type": "execute_result",
          "data": {
            "text/plain": [
              "tf.int32"
            ]
          },
          "metadata": {},
          "execution_count": 44
        }
      ]
    },
    {
      "cell_type": "code",
      "source": [
        "A = tf.cast(A, dtype=tf.float16)\n",
        "A.dtype"
      ],
      "metadata": {
        "colab": {
          "base_uri": "https://localhost:8080/"
        },
        "id": "8hm9Hf5lbYWF",
        "outputId": "2382f63f-3ec3-417d-a99f-8fa54abb8603"
      },
      "execution_count": null,
      "outputs": [
        {
          "output_type": "execute_result",
          "data": {
            "text/plain": [
              "tf.float16"
            ]
          },
          "metadata": {},
          "execution_count": 45
        }
      ]
    },
    {
      "cell_type": "markdown",
      "source": [
        "#Aggregating tensors\n",
        "\n",
        "\n",
        "*   Get the absolute\n",
        "*  Get a minimum\n",
        "*Get a maximum\n",
        "*Get a mean value of the tensor etc"
      ],
      "metadata": {
        "id": "PAztk7qIb8Pn"
      }
    },
    {
      "cell_type": "code",
      "source": [
        "D = tf.constant([-7, -10])\n",
        "tf.abs(D)"
      ],
      "metadata": {
        "colab": {
          "base_uri": "https://localhost:8080/"
        },
        "id": "iAw-ObvIb-NP",
        "outputId": "8e6dda70-49ff-4f34-ad99-6a2cbbab9860"
      },
      "execution_count": null,
      "outputs": [
        {
          "output_type": "execute_result",
          "data": {
            "text/plain": [
              "<tf.Tensor: shape=(2,), dtype=int32, numpy=array([ 7, 10], dtype=int32)>"
            ]
          },
          "metadata": {},
          "execution_count": 46
        }
      ]
    },
    {
      "cell_type": "code",
      "source": [
        "#create a tensor wit random numbers between 0 and 100 with 50 values\n",
        "\n",
        "E = tf.constant(np.random.randint(0, 100, size=50))\n",
        "E\n"
      ],
      "metadata": {
        "colab": {
          "base_uri": "https://localhost:8080/"
        },
        "id": "-yMWsHNtcwQQ",
        "outputId": "abdcf227-fd3a-43b8-a3c1-00cf92f35cac"
      },
      "execution_count": null,
      "outputs": [
        {
          "output_type": "execute_result",
          "data": {
            "text/plain": [
              "<tf.Tensor: shape=(50,), dtype=int64, numpy=\n",
              "array([21, 82, 36, 24, 40, 89, 93, 64, 85, 17,  6,  0, 95, 40,  4, 66, 92,\n",
              "       56, 73, 38, 74, 22, 11, 91, 40, 47, 19, 43, 25, 54, 24, 46, 71, 42,\n",
              "       43, 15, 88, 99, 38, 13, 29, 93, 21, 39, 10,  2, 45, 45, 14,  3])>"
            ]
          },
          "metadata": {},
          "execution_count": 76
        }
      ]
    },
    {
      "cell_type": "code",
      "source": [
        "# Find the minimum\n",
        "min = tf.reduce_min(E).numpy()\n",
        "min"
      ],
      "metadata": {
        "colab": {
          "base_uri": "https://localhost:8080/"
        },
        "id": "1el_Y3V1eB8C",
        "outputId": "d92673ad-1b45-40cb-f7e9-cbf95cf17d84"
      },
      "execution_count": null,
      "outputs": [
        {
          "output_type": "execute_result",
          "data": {
            "text/plain": [
              "0"
            ]
          },
          "metadata": {},
          "execution_count": 52
        }
      ]
    },
    {
      "cell_type": "code",
      "source": [
        "#find the maximum\n",
        "max = tf.reduce_max(E).numpy()\n",
        "max"
      ],
      "metadata": {
        "colab": {
          "base_uri": "https://localhost:8080/"
        },
        "id": "5uDFSNoPeQkp",
        "outputId": "98299868-25ee-49c1-fb82-6282b914379d"
      },
      "execution_count": null,
      "outputs": [
        {
          "output_type": "execute_result",
          "data": {
            "text/plain": [
              "99"
            ]
          },
          "metadata": {},
          "execution_count": 54
        }
      ]
    },
    {
      "cell_type": "code",
      "source": [
        "mean = tf.reduce_mean(E).numpy()\n",
        "mean"
      ],
      "metadata": {
        "colab": {
          "base_uri": "https://localhost:8080/"
        },
        "id": "5qUdXLfyecSI",
        "outputId": "fc387b62-8b0f-4832-b96d-350e90ecab06"
      },
      "execution_count": null,
      "outputs": [
        {
          "output_type": "execute_result",
          "data": {
            "text/plain": [
              "50"
            ]
          },
          "metadata": {},
          "execution_count": 55
        }
      ]
    },
    {
      "cell_type": "code",
      "source": [
        "sum = tf.reduce_sum(E).numpy()\n",
        "sum"
      ],
      "metadata": {
        "colab": {
          "base_uri": "https://localhost:8080/"
        },
        "id": "HH65v1xrenUp",
        "outputId": "d0a29749-8242-4bc9-9e5e-027573bb3a53"
      },
      "execution_count": null,
      "outputs": [
        {
          "output_type": "execute_result",
          "data": {
            "text/plain": [
              "2520"
            ]
          },
          "metadata": {},
          "execution_count": 56
        }
      ]
    },
    {
      "cell_type": "code",
      "source": [
        "#find variance of a tensor\n",
        "\n",
        "#tf.reduce_variance() won't work on tensors with dtype  = int . See code cell below. Also variance and std needs access to the tf.math() library \n",
        "\n",
        "\n",
        "import tensorflow_probability as tfp\n",
        "\n",
        "tfp.stats.variance(E).numpy()\n"
      ],
      "metadata": {
        "colab": {
          "base_uri": "https://localhost:8080/"
        },
        "id": "NX4vsm2aevyz",
        "outputId": "3603380b-fa01-47a4-8f68-bb7dc4145e60"
      },
      "execution_count": null,
      "outputs": [
        {
          "output_type": "execute_result",
          "data": {
            "text/plain": [
              "869.88837"
            ]
          },
          "metadata": {},
          "execution_count": 84
        }
      ]
    },
    {
      "cell_type": "code",
      "source": [
        "E = tf.cast(E, dtype = tf.float32)\n",
        "tf.math.reduce_variance(E).numpy()\n",
        "\n"
      ],
      "metadata": {
        "colab": {
          "base_uri": "https://localhost:8080/"
        },
        "id": "cq8Vuf4qgn1y",
        "outputId": "eee3eb1b-62f5-437c-aec2-96615392759c"
      },
      "execution_count": null,
      "outputs": [
        {
          "output_type": "execute_result",
          "data": {
            "text/plain": [
              "869.88837"
            ]
          },
          "metadata": {},
          "execution_count": 82
        }
      ]
    },
    {
      "cell_type": "code",
      "source": [
        "tf.math.reduce_std(E).numpy()"
      ],
      "metadata": {
        "colab": {
          "base_uri": "https://localhost:8080/"
        },
        "id": "DpuDPuGHhuBo",
        "outputId": "f41e9da1-42e2-44d7-bfaf-3bf898996a02"
      },
      "execution_count": null,
      "outputs": [
        {
          "output_type": "execute_result",
          "data": {
            "text/plain": [
              "29.49387"
            ]
          },
          "metadata": {},
          "execution_count": 83
        }
      ]
    },
    {
      "cell_type": "markdown",
      "source": [
        "#Find the positional maximum and minimum\n",
        "\n",
        "\n",
        "*   argmin\n",
        "*   argmax\n",
        "\n"
      ],
      "metadata": {
        "id": "zSpBLY_ph-x2"
      }
    },
    {
      "cell_type": "code",
      "source": [
        "#Create a new tensor\n",
        "tf.random.set_seed(42)\n",
        "rand= tf.random.uniform(shape=[50])\n",
        "rand"
      ],
      "metadata": {
        "colab": {
          "base_uri": "https://localhost:8080/"
        },
        "id": "iYvmXCFZilrP",
        "outputId": "a7964919-e5b0-4d2d-cdb2-14adcf58f82c"
      },
      "execution_count": null,
      "outputs": [
        {
          "output_type": "execute_result",
          "data": {
            "text/plain": [
              "<tf.Tensor: shape=(50,), dtype=float32, numpy=\n",
              "array([0.6645621 , 0.44100678, 0.3528825 , 0.46448255, 0.03366041,\n",
              "       0.68467236, 0.74011743, 0.8724445 , 0.22632635, 0.22319686,\n",
              "       0.3103881 , 0.7223358 , 0.13318717, 0.5480639 , 0.5746088 ,\n",
              "       0.8996835 , 0.00946367, 0.5212307 , 0.6345445 , 0.1993283 ,\n",
              "       0.72942245, 0.54583454, 0.10756552, 0.6767061 , 0.6602763 ,\n",
              "       0.33695042, 0.60141766, 0.21062577, 0.8527372 , 0.44062173,\n",
              "       0.9485276 , 0.23752594, 0.81179297, 0.5263394 , 0.494308  ,\n",
              "       0.21612847, 0.8457197 , 0.8718841 , 0.3083862 , 0.6868038 ,\n",
              "       0.23764038, 0.7817228 , 0.9671384 , 0.06870162, 0.79873943,\n",
              "       0.66028714, 0.5871513 , 0.16461694, 0.7381023 , 0.32054043],\n",
              "      dtype=float32)>"
            ]
          },
          "metadata": {},
          "execution_count": 109
        }
      ]
    },
    {
      "cell_type": "code",
      "source": [
        "#get the index of the maximum value\n",
        "tf.argmax(rand).numpy()"
      ],
      "metadata": {
        "colab": {
          "base_uri": "https://localhost:8080/"
        },
        "id": "y6xI8lkUjcUT",
        "outputId": "46aaff9d-f815-4a8c-f146-0f75635838a8"
      },
      "execution_count": null,
      "outputs": [
        {
          "output_type": "execute_result",
          "data": {
            "text/plain": [
              "42"
            ]
          },
          "metadata": {},
          "execution_count": 89
        }
      ]
    },
    {
      "cell_type": "code",
      "source": [
        "#get the max value itself\n",
        "rand[tf.argmax(rand)].numpy()"
      ],
      "metadata": {
        "colab": {
          "base_uri": "https://localhost:8080/"
        },
        "id": "-do68mIQjwjs",
        "outputId": "69940d74-931b-47fb-82b3-7007ffaf4c53"
      },
      "execution_count": null,
      "outputs": [
        {
          "output_type": "execute_result",
          "data": {
            "text/plain": [
              "0.9671384"
            ]
          },
          "metadata": {},
          "execution_count": 92
        }
      ]
    },
    {
      "cell_type": "code",
      "source": [
        "tf.reduce_max(rand)\n"
      ],
      "metadata": {
        "colab": {
          "base_uri": "https://localhost:8080/"
        },
        "id": "EvhyspJ7kMVF",
        "outputId": "dcda3bd3-b237-4a37-cdf8-6f6ce8a952ac"
      },
      "execution_count": null,
      "outputs": [
        {
          "output_type": "execute_result",
          "data": {
            "text/plain": [
              "<tf.Tensor: shape=(), dtype=float32, numpy=0.9671384>"
            ]
          },
          "metadata": {},
          "execution_count": 94
        }
      ]
    },
    {
      "cell_type": "code",
      "source": [
        "assert tf.reduce_max(rand) == rand[tf.argmax(rand)] #output no error if this is true\n",
        "\n",
        "#another way to check if this is true:\n",
        "\n",
        "(tf.reduce_max(rand) == rand[tf.argmax(rand)]).numpy() \n",
        "\n",
        "#output true if the equality is true, nevermind that l keep putting numpy() because l am obsessed with pretty printing, low-key OCD alert!!"
      ],
      "metadata": {
        "colab": {
          "base_uri": "https://localhost:8080/"
        },
        "id": "S5Z5tCA2kc0C",
        "outputId": "119bdb73-31ec-4e24-a11e-d315b860ab02"
      },
      "execution_count": null,
      "outputs": [
        {
          "output_type": "execute_result",
          "data": {
            "text/plain": [
              "True"
            ]
          },
          "metadata": {},
          "execution_count": 100
        }
      ]
    },
    {
      "cell_type": "code",
      "source": [
        "#to find the positional minimum\n",
        "tf.argmin(rand)\n",
        "rand[tf.argmin(rand)]"
      ],
      "metadata": {
        "colab": {
          "base_uri": "https://localhost:8080/"
        },
        "id": "pUtTybqgk_Jg",
        "outputId": "6a4df8b3-e151-473b-b738-634d97116c36"
      },
      "execution_count": null,
      "outputs": [
        {
          "output_type": "execute_result",
          "data": {
            "text/plain": [
              "<tf.Tensor: shape=(), dtype=float32, numpy=0.009463668>"
            ]
          },
          "metadata": {},
          "execution_count": 102
        }
      ]
    },
    {
      "cell_type": "markdown",
      "source": [
        "#Squeezing tensors"
      ],
      "metadata": {
        "id": "Z0SQw3X5lxIJ"
      }
    },
    {
      "cell_type": "code",
      "source": [
        "\n",
        "#reshape rand into a tensor of rank 5\n",
        "rand = tf.constant(rand, shape = (1, 1, 1, 1, 50))\n",
        "rand.ndim\n",
        "rand.shape\n",
        "tf.squeeze(rand) , tf.squeeze(rand).shape\n",
        "\n",
        "#squeeze removes dimensions of size 1 from a tensor\n",
        "#l used to do this using reshape, it's cool to know l can do this another way!\n",
        "\n"
      ],
      "metadata": {
        "colab": {
          "base_uri": "https://localhost:8080/"
        },
        "id": "23STLE-0lzpZ",
        "outputId": "d27d5a7d-26cb-4e6a-cd41-019eef57d72c"
      },
      "execution_count": null,
      "outputs": [
        {
          "output_type": "execute_result",
          "data": {
            "text/plain": [
              "(<tf.Tensor: shape=(50,), dtype=float32, numpy=\n",
              " array([0.6645621 , 0.44100678, 0.3528825 , 0.46448255, 0.03366041,\n",
              "        0.68467236, 0.74011743, 0.8724445 , 0.22632635, 0.22319686,\n",
              "        0.3103881 , 0.7223358 , 0.13318717, 0.5480639 , 0.5746088 ,\n",
              "        0.8996835 , 0.00946367, 0.5212307 , 0.6345445 , 0.1993283 ,\n",
              "        0.72942245, 0.54583454, 0.10756552, 0.6767061 , 0.6602763 ,\n",
              "        0.33695042, 0.60141766, 0.21062577, 0.8527372 , 0.44062173,\n",
              "        0.9485276 , 0.23752594, 0.81179297, 0.5263394 , 0.494308  ,\n",
              "        0.21612847, 0.8457197 , 0.8718841 , 0.3083862 , 0.6868038 ,\n",
              "        0.23764038, 0.7817228 , 0.9671384 , 0.06870162, 0.79873943,\n",
              "        0.66028714, 0.5871513 , 0.16461694, 0.7381023 , 0.32054043],\n",
              "       dtype=float32)>, TensorShape([50]))"
            ]
          },
          "metadata": {},
          "execution_count": 118
        }
      ]
    },
    {
      "cell_type": "markdown",
      "source": [
        "#Encoding tensors\n"
      ],
      "metadata": {
        "id": "OhhsOe5koFea"
      }
    },
    {
      "cell_type": "code",
      "source": [
        "#Create a list of indices\n",
        "some_list = [0, 1, 2, 3]  #could be red, blue, green, black\n",
        "\n",
        "#one-hot encode the list of indices above\n",
        "\n",
        "tf.one_hot(some_list, depth = 4)"
      ],
      "metadata": {
        "colab": {
          "base_uri": "https://localhost:8080/"
        },
        "id": "ONj2-y_eoHmP",
        "outputId": "8f9ef442-7fa0-43c2-a516-0f50f946fbcf"
      },
      "execution_count": null,
      "outputs": [
        {
          "output_type": "execute_result",
          "data": {
            "text/plain": [
              "<tf.Tensor: shape=(4, 4), dtype=float32, numpy=\n",
              "array([[1., 0., 0., 0.],\n",
              "       [0., 1., 0., 0.],\n",
              "       [0., 0., 1., 0.],\n",
              "       [0., 0., 0., 1.]], dtype=float32)>"
            ]
          },
          "metadata": {},
          "execution_count": 123
        }
      ]
    },
    {
      "cell_type": "code",
      "source": [
        "#specify custom values for one_hot encoding\n",
        "\n",
        "tf.one_hot(some_list, depth = 4, on_value = \"I miss him\", off_value = \"True\")"
      ],
      "metadata": {
        "colab": {
          "base_uri": "https://localhost:8080/"
        },
        "id": "Oov_Uq2xo_g_",
        "outputId": "941a56ff-668f-4141-e8ec-99085b2865f2"
      },
      "execution_count": null,
      "outputs": [
        {
          "output_type": "execute_result",
          "data": {
            "text/plain": [
              "<tf.Tensor: shape=(4, 4), dtype=string, numpy=\n",
              "array([[b'I miss him', b'True', b'True', b'True'],\n",
              "       [b'True', b'I miss him', b'True', b'True'],\n",
              "       [b'True', b'True', b'I miss him', b'True'],\n",
              "       [b'True', b'True', b'True', b'I miss him']], dtype=object)>"
            ]
          },
          "metadata": {},
          "execution_count": 127
        }
      ]
    },
    {
      "cell_type": "markdown",
      "source": [
        "#Other tensor operations\n",
        "\n",
        "\n",
        "\n",
        "*   tf.math.sqrt , method requires non-int argument\n",
        "*   tf.math.square\n",
        "*   tf.math.log , also requires non_int argument, see tensorflow documentation of allowed dtypes\n",
        "\n",
        "\n",
        "\n"
      ],
      "metadata": {
        "id": "XX19NfCjpteg"
      }
    },
    {
      "cell_type": "markdown",
      "source": [
        "#Tensors and Numpy\n",
        "\n",
        "Tensorflow interacts beautifully with Numpy"
      ],
      "metadata": {
        "id": "7azQqmjiqWtu"
      }
    },
    {
      "cell_type": "code",
      "source": [
        "A = np.array([1.2, 7.8])\n",
        "A"
      ],
      "metadata": {
        "colab": {
          "base_uri": "https://localhost:8080/"
        },
        "id": "ebNVwHjvqZJv",
        "outputId": "82b9c693-4537-4779-feb8-c7ce621cf94e"
      },
      "execution_count": null,
      "outputs": [
        {
          "output_type": "execute_result",
          "data": {
            "text/plain": [
              "array([1.2, 7.8])"
            ]
          },
          "metadata": {},
          "execution_count": 133
        }
      ]
    },
    {
      "cell_type": "code",
      "source": [
        "#you can easily convert a numpy array into a tensor using tf.constant\n",
        "A = tf.constant(A)\n",
        "A\n"
      ],
      "metadata": {
        "colab": {
          "base_uri": "https://localhost:8080/"
        },
        "id": "q6NgPqVZqp9J",
        "outputId": "93ab263a-54df-415a-f256-0d6a8bae432b"
      },
      "execution_count": null,
      "outputs": [
        {
          "output_type": "execute_result",
          "data": {
            "text/plain": [
              "<tf.Tensor: shape=(2,), dtype=float64, numpy=array([1.2, 7.8])>"
            ]
          },
          "metadata": {},
          "execution_count": 134
        }
      ]
    },
    {
      "cell_type": "code",
      "source": [
        "#we can also easily convert a tensor back to a numpy array as follows:\n",
        "np.array(A), type(np.array(A))"
      ],
      "metadata": {
        "colab": {
          "base_uri": "https://localhost:8080/"
        },
        "id": "Z4Cy8SFzrQxq",
        "outputId": "7e5835c1-a0a2-45f0-d519-f7a5309058f1"
      },
      "execution_count": null,
      "outputs": [
        {
          "output_type": "execute_result",
          "data": {
            "text/plain": [
              "(array([1.2, 7.8]), numpy.ndarray)"
            ]
          },
          "metadata": {},
          "execution_count": 135
        }
      ]
    },
    {
      "cell_type": "code",
      "source": [
        "#the default datypes are slightly different  for tensors and numpy arrays\n",
        "A = tf.constant(np.array([3.5, 1.7]))\n",
        "print(A.dtype)\n",
        "B = tf.constant([3.5, 1.7])\n",
        "print(B.dtype)\n",
        "\n",
        "\n",
        "#this is part of the reason why by default tensors run faster than numpy as tensors consume less memory"
      ],
      "metadata": {
        "colab": {
          "base_uri": "https://localhost:8080/"
        },
        "id": "_334iYclsCJu",
        "outputId": "f8c79d2e-cbff-4291-f0df-14aca9f7e0cf"
      },
      "execution_count": null,
      "outputs": [
        {
          "output_type": "stream",
          "name": "stdout",
          "text": [
            "<dtype: 'float64'>\n",
            "<dtype: 'float32'>\n"
          ]
        }
      ]
    },
    {
      "cell_type": "markdown",
      "source": [
        "#Making sure our tensors really run faster than numpy on GPUs "
      ],
      "metadata": {
        "id": "xN9MUMZxtNxi"
      }
    },
    {
      "cell_type": "code",
      "source": [
        "tf.config.list_physical_devices()\n"
      ],
      "metadata": {
        "colab": {
          "base_uri": "https://localhost:8080/"
        },
        "id": "QkwBPWTPtT5z",
        "outputId": "7d3eedd5-b319-4b8b-be9e-40410f85fed5"
      },
      "execution_count": null,
      "outputs": [
        {
          "output_type": "execute_result",
          "data": {
            "text/plain": [
              "[PhysicalDevice(name='/physical_device:CPU:0', device_type='CPU')]"
            ]
          },
          "metadata": {},
          "execution_count": 141
        }
      ]
    },
    {
      "cell_type": "code",
      "source": [
        "!nvidia-smi #to check the type of GPU you got access to when you use google collab resources \n"
      ],
      "metadata": {
        "id": "UUDQuXKGuUmz"
      },
      "execution_count": null,
      "outputs": []
    },
    {
      "cell_type": "code",
      "source": [
        ""
      ],
      "metadata": {
        "id": "G9GMsueluaXU"
      },
      "execution_count": null,
      "outputs": []
    }
  ]
}